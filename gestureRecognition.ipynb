{
 "cells": [
  {
   "cell_type": "markdown",
   "metadata": {},
   "source": [
    "# Deep Learning Course Project - Gesture Recognition\n",
    "\n",
    "##### Group members: Sai Charitha Gonavaram and Prajwal Brijesh Ainapur\n",
    "\n",
    "## Problem Statement:\n",
    "\n",
    "   Imagine you are working as a data scientist at a home electronics company which manufactures state of the art smart televisions. You want to develop a cool feature in the smart-TV that can recognise five different gestures performed by the user which will help users control the TV without using a remote. The gestures are continuously monitored by the webcam mounted on the TV. Each gesture corresponds to a specific command:\n",
    "\n",
    "   - Thumbs up:  Increase the volume\n",
    "   - Thumbs down: Decrease the volume\n",
    "   - Left swipe: 'Jump' backwards 10 seconds\n",
    "   - Right swipe: 'Jump' forward 10 seconds  \n",
    "   - Stop: Pause the movie\n",
    "   \n",
    "\n",
    "### Contents\n",
    "\n",
    "- Modules utilized\n",
    "- Generator \n",
    "- Approach 1: 2D-CNN + GRU\n",
    "- Approach 2: 3D CNN\n",
    "- Approach 3: Transfer Learning \n",
    "\n",
    "\n",
    "    - Mobilenet + GRU\n",
    "    - Mobilenet v2 + GRU \n",
    "    \n",
    "    \n",
    "\n",
    "- Conclusion"
   ]
  },
  {
   "cell_type": "markdown",
   "metadata": {},
   "source": [
    "\n",
    "\n",
    "\n",
    "\n",
    "## Modules Utilized"
   ]
  },
  {
   "cell_type": "code",
   "execution_count": 1,
   "metadata": {},
   "outputs": [],
   "source": [
    "#importing some basic required modules\n",
    "import numpy as np\n",
    "import os\n",
    "from scipy.misc import imread, imresize\n",
    "import datetime\n",
    "import os\n",
    "\n",
    "import warnings\n",
    "warnings.filterwarnings(\"ignore\")"
   ]
  },
  {
   "cell_type": "markdown",
   "metadata": {},
   "source": [
    "We set the random seed so that the results don't vary drastically."
   ]
  },
  {
   "cell_type": "code",
   "execution_count": 2,
   "metadata": {},
   "outputs": [
    {
     "name": "stderr",
     "output_type": "stream",
     "text": [
      "Using TensorFlow backend.\n"
     ]
    }
   ],
   "source": [
    "np.random.seed(30)\n",
    "import random as rn\n",
    "rn.seed(30)\n",
    "from keras import backend as K\n",
    "import tensorflow as tf\n",
    "tf.set_random_seed(30)"
   ]
  },
  {
   "cell_type": "markdown",
   "metadata": {},
   "source": [
    "In this block, you read the folder names for training and validation. You also set the `batch_size` here. Note that you set the batch size in such a way that you are able to use the GPU in full capacity. You keep increasing the batch size until the machine throws an error."
   ]
  },
  {
   "cell_type": "code",
   "execution_count": 3,
   "metadata": {},
   "outputs": [],
   "source": [
    "# The directory for the documents have been modified based on the directory structure of Nimblebox\n",
    "\n",
    "train_doc = np.random.permutation(open('./Project_data/train.csv').readlines())\n",
    "val_doc = np.random.permutation(open('./Project_data/val.csv').readlines())\n",
    "batch_size = 15#experiment with the batch size\n"
   ]
  },
  {
   "cell_type": "markdown",
   "metadata": {},
   "source": [
    "## Generator \n",
    "This is one of the most important part of the code. The overall structure of the generator has been given. In the generator, you are going to preprocess the images as you have images of 2 different dimensions as well as create a batch of video frames. You have to experiment with `img_idx`, `y`,`z` and normalization such that you get high accuracy.\n",
    "\n",
    "The values of y and z have been taken at 120 based on hit and trial approach "
   ]
  },
  {
   "cell_type": "code",
   "execution_count": 4,
   "metadata": {},
   "outputs": [],
   "source": [
    "def generator(source_path, folder_list, batch_size):\n",
    "    print( 'Source path = ', source_path, '; batch size =', batch_size)\n",
    "    x=25\n",
    "    y=120\n",
    "    z=120\n",
    "    img_idx =[x for x in range(0,x)]  #create a list of image numbers you want to use for a particular video\n",
    "    while True:\n",
    "        t = np.random.permutation(folder_list)\n",
    "        num_batches = len(folder_list)//batch_size # calculate the number of batches\n",
    "        for batch in range(num_batches): # we iterate over the number of batches\n",
    "            batch_data = np.zeros((batch_size,x,y,z,3)) # x is the number of images you use for each video, (y,z) is the final size of the input images and 3 is the number of channels RGB\n",
    "            batch_labels = np.zeros((batch_size,5)) # batch_labels is the one hot representation of the output\n",
    "            for folder in range(batch_size): # iterate over the batch_size\n",
    "                imgs = os.listdir(source_path+'/'+ t[folder + (batch*batch_size)].split(';')[0]) # read all the images in the folder\n",
    "                for idx,item in enumerate(img_idx): #  Iterate iver the frames/images of a folder to read them in\n",
    "                    image = imread(source_path+'/'+ t[folder + (batch*batch_size)].strip().split(';')[0]+'/'+imgs[item]).astype(np.float32)\n",
    "                     \n",
    "                    #The following line resizes the entire image into the pre defined shape i.e. 120*120\n",
    "                    image = imresize(image,(y,z,3))\n",
    "                    \n",
    "                    #Normalising images. Since the intensity values for each pixel varies from 0-255; performing \n",
    "                    image0 =  image[:,:, 0]/255.0\n",
    "                    image1 =  image[:,:, 1]/255.0\n",
    "                    image2 =  image[:,:, 2]/255.0\n",
    "                   \n",
    "                    \n",
    "                    batch_data[folder,idx,:,:,0] = image0 #normalise and feed in the image\n",
    "                    batch_data[folder,idx,:,:,1] = image1#normalise and feed in the image\n",
    "                    batch_data[folder,idx,:,:,2] = image2#normalise and feed in the image\n",
    "                    \n",
    "                batch_labels[folder, int(t[folder + (batch*batch_size)].strip().split(';')[2])] = 1\n",
    "            yield batch_data, batch_labels #you yield the batch_data and the batch_labels, remember what does yield do\n",
    "\n",
    "        \n",
    "        # write the code for the remaining data points which are left after full batches\n",
    "        if(len(folder_list)%batch_size != 0):\n",
    "            Remaining_data=len(folder_list) - (num_batches * batch_size)\n",
    "            batch_data = np.zeros((batch_size,x,y,z,3)) # x is the number of images you use for each video, (y,z) is the final size of the input images and 3 is the number of channels RGB\n",
    "            batch_labels = np.zeros((batch_size,5)) # batch_labels is the one hot representation of the output\n",
    "            for folder in range(batch_size): # iterate over the batch_size\n",
    "                imgs = os.listdir(source_path+'/'+ t[folder + (batch*batch_size)].split(';')[0]) # read all the images in the folder\n",
    "                for idx,item in enumerate(img_idx): #  Iterate iver the frames/images of a folder to read them in\n",
    "                    image = imread(source_path+'/'+ t[folder + (batch*batch_size)].strip().split(';')[0]+'/'+imgs[item]).astype(np.float32)\n",
    "                     \n",
    "                    #crop the images and resize them. Note that the images are of 2 different shape \n",
    "                    #and the conv3D will throw error if the inputs in a batch have different shapes\n",
    "                    image = imresize(image,(y,z,3))\n",
    "                    \n",
    "                     #Normalising images \n",
    "                    image0 =  image[:,:, 0]/255.0\n",
    "                    image1 =  image[:,:, 1]/255.0\n",
    "                    image2 =  image[:,:, 2]/255.0\n",
    "\n",
    "\n",
    "                    batch_data[folder,idx,:,:,0] = image0 #normalise and feed in the image\n",
    "                    batch_data[folder,idx,:,:,1] = image1#normalise and feed in the image\n",
    "                    batch_data[folder,idx,:,:,2] = image2#normalise and feed in the image\n",
    "                    \n",
    "                batch_labels[folder, int(t[folder + (batch*batch_size)].strip().split(';')[2])] = 1\n",
    "            yield batch_data, batch_labels #you yield the batch_data and the batch_labels, remember what does yield do\n"
   ]
  },
  {
   "cell_type": "markdown",
   "metadata": {},
   "source": [
    "Note here that a video is represented above in the generator as (number of images, height, width, number of channels). Take this into consideration while creating the model architecture."
   ]
  },
  {
   "cell_type": "code",
   "execution_count": 5,
   "metadata": {},
   "outputs": [
    {
     "name": "stdout",
     "output_type": "stream",
     "text": [
      "# training sequences = 663\n",
      "# validation sequences = 100\n",
      "# epochs = 30\n"
     ]
    }
   ],
   "source": [
    "curr_dt_time = datetime.datetime.now()\n",
    "train_path = './Project_data/train'\n",
    "val_path = './Project_data/val'\n",
    "num_train_sequences = len(train_doc)\n",
    "print('# training sequences =', num_train_sequences)\n",
    "num_val_sequences = len(val_doc)\n",
    "print('# validation sequences =', num_val_sequences)\n",
    "num_epochs = 30\n",
    "print ('# epochs =', num_epochs)"
   ]
  },
  {
   "cell_type": "markdown",
   "metadata": {},
   "source": [
    "## Approach 1: 2D CNN + GRU\n",
    "\n",
    "The intution behind such an architecture is that 2DCNN will be useful in generating feature maps whereas the GRU will give us temporal features. The model architecture involves a basic 2DCNN initial layers i.e. 4 hidden layers with 16, 32, 64, 128 nodes in each layer specifically, followed by a GRU with 64 cells. The model is as following."
   ]
  },
  {
   "cell_type": "code",
   "execution_count": 6,
   "metadata": {},
   "outputs": [],
   "source": [
    "from keras.models import Sequential, Model\n",
    "from keras.layers import Dense, GRU, Flatten, TimeDistributed, Flatten, BatchNormalization, Activation, Dropout\n",
    "from keras.layers.convolutional import Conv2D, MaxPooling2D\n",
    "from keras.callbacks import ModelCheckpoint, ReduceLROnPlateau\n",
    "from keras import optimizers\n",
    "\n",
    "\n",
    "model = Sequential()\n",
    "\n",
    "model.add(TimeDistributed(Conv2D(16, (3, 3) , padding='same', activation='relu'),\n",
    "                          input_shape=(25, 120, 120, 3)))\n",
    "model.add(TimeDistributed(BatchNormalization()))\n",
    "model.add(TimeDistributed(MaxPooling2D((2, 2))))\n",
    "\n",
    "model.add(TimeDistributed(Conv2D(32, (3, 3) , padding='same', activation='relu')))\n",
    "model.add(TimeDistributed(BatchNormalization()))\n",
    "model.add(TimeDistributed(MaxPooling2D((2, 2))))\n",
    "\n",
    "model.add(TimeDistributed(Conv2D(64, (3, 3) , padding='same', activation='relu')))\n",
    "model.add(TimeDistributed(BatchNormalization()))\n",
    "model.add(TimeDistributed(MaxPooling2D((2, 2))))\n",
    "\n",
    "model.add(TimeDistributed(Conv2D(128, (3, 3) , padding='same', activation='relu')))\n",
    "model.add(TimeDistributed(BatchNormalization()))\n",
    "model.add(TimeDistributed(MaxPooling2D((2, 2))))\n",
    "\n",
    "model.add(TimeDistributed(Flatten()))\n",
    "\n",
    "model.add(GRU(64))\n",
    "model.add(Dropout(0.25))\n",
    "\n",
    "model.add(Dense(64, activation='relu'))\n",
    "model.add(Dropout(0.25))\n",
    "\n",
    "model.add(Dense(5, activation='softmax'))"
   ]
  },
  {
   "cell_type": "code",
   "execution_count": 7,
   "metadata": {},
   "outputs": [
    {
     "name": "stdout",
     "output_type": "stream",
     "text": [
      "_________________________________________________________________\n",
      "Layer (type)                 Output Shape              Param #   \n",
      "=================================================================\n",
      "time_distributed_1 (TimeDist (None, 25, 120, 120, 16)  448       \n",
      "_________________________________________________________________\n",
      "time_distributed_2 (TimeDist (None, 25, 120, 120, 16)  64        \n",
      "_________________________________________________________________\n",
      "time_distributed_3 (TimeDist (None, 25, 60, 60, 16)    0         \n",
      "_________________________________________________________________\n",
      "time_distributed_4 (TimeDist (None, 25, 60, 60, 32)    4640      \n",
      "_________________________________________________________________\n",
      "time_distributed_5 (TimeDist (None, 25, 60, 60, 32)    128       \n",
      "_________________________________________________________________\n",
      "time_distributed_6 (TimeDist (None, 25, 30, 30, 32)    0         \n",
      "_________________________________________________________________\n",
      "time_distributed_7 (TimeDist (None, 25, 30, 30, 64)    18496     \n",
      "_________________________________________________________________\n",
      "time_distributed_8 (TimeDist (None, 25, 30, 30, 64)    256       \n",
      "_________________________________________________________________\n",
      "time_distributed_9 (TimeDist (None, 25, 15, 15, 64)    0         \n",
      "_________________________________________________________________\n",
      "time_distributed_10 (TimeDis (None, 25, 15, 15, 128)   73856     \n",
      "_________________________________________________________________\n",
      "time_distributed_11 (TimeDis (None, 25, 15, 15, 128)   512       \n",
      "_________________________________________________________________\n",
      "time_distributed_12 (TimeDis (None, 25, 7, 7, 128)     0         \n",
      "_________________________________________________________________\n",
      "time_distributed_13 (TimeDis (None, 25, 6272)          0         \n",
      "_________________________________________________________________\n",
      "gru_1 (GRU)                  (None, 64)                1216704   \n",
      "_________________________________________________________________\n",
      "dropout_1 (Dropout)          (None, 64)                0         \n",
      "_________________________________________________________________\n",
      "dense_1 (Dense)              (None, 64)                4160      \n",
      "_________________________________________________________________\n",
      "dropout_2 (Dropout)          (None, 64)                0         \n",
      "_________________________________________________________________\n",
      "dense_2 (Dense)              (None, 5)                 325       \n",
      "=================================================================\n",
      "Total params: 1,319,589\n",
      "Trainable params: 1,319,109\n",
      "Non-trainable params: 480\n",
      "_________________________________________________________________\n",
      "None\n"
     ]
    }
   ],
   "source": [
    "from keras import optimizers\n",
    "optimiser = optimizers.Adam(lr=0.001)#write your optimizer\n",
    "model.compile(optimizer=optimiser, loss='categorical_crossentropy', metrics=['categorical_accuracy'])\n",
    "print (model.summary())"
   ]
  },
  {
   "cell_type": "markdown",
   "metadata": {},
   "source": [
    "As described in the above model summary, the number of trainable parameters is just at about 1.3 Million. Upon training the model it was observed that Training accuracy was about 84% and Validation accuracy was about 75% at about 16 epochs following which, the model started over fitting a lot.\n",
    "\n",
    "Following Iterations to the above model were made and the results are also mentioned in detail on the report:\n",
    "\n",
    "- Adding more GRU layers/ Dense NN layers\n",
    "- Adding number of cells/neurons on the given GRU/ Dense NN layer\n",
    "- Modifying the CNN layers\n",
    "\n",
    "All the above modifications did not provide the desired results i.e. Proper data fit i.e. no under fitting or over fitting as well as good accuracy\n",
    "\n",
    "The trained model file can be found in the following link\n",
    "\n",
    "https://drive.google.com/file/d/1zhdQdPjxvIJ9BcKgwzOs9clki33AoOaY/view?usp=sharing"
   ]
  },
  {
   "cell_type": "markdown",
   "metadata": {},
   "source": [
    "\n",
    "\n",
    "## Approach 2: 3D-CNN\n",
    "\n",
    "Multiple architectures under this approach were trained and analyzed and the same are detailed in the report. The following is the architecure from the model which had the best results among all over iterations."
   ]
  },
  {
   "cell_type": "code",
   "execution_count": 6,
   "metadata": {},
   "outputs": [],
   "source": [
    "from keras.layers.convolutional import Conv3D, MaxPooling3D\n",
    "from keras.models import Sequential, Model\n",
    "from keras.layers import Dense, GRU, Flatten, TimeDistributed, Flatten, BatchNormalization, Activation, Dropout\n",
    "from keras.layers.convolutional import Conv2D, MaxPooling2D\n",
    "from keras.callbacks import ModelCheckpoint, ReduceLROnPlateau\n",
    "from keras import optimizers\n",
    "\n",
    "model = Sequential()\n",
    "\n",
    "model.add(Conv3D(16, \n",
    "                 kernel_size=(3,3,3), \n",
    "                 input_shape=(25, 120, 120, 3),\n",
    "                 padding='same'))\n",
    "model.add(BatchNormalization())\n",
    "model.add(Activation('relu'))\n",
    "\n",
    "model.add(MaxPooling3D(pool_size=(2,2,2)))\n",
    "\n",
    "model.add(Conv3D(32,  \n",
    "                 kernel_size=(3,3,3), \n",
    "                 padding='same'))\n",
    "model.add(BatchNormalization())\n",
    "model.add(Activation('relu'))\n",
    "\n",
    "model.add(MaxPooling3D(pool_size=(2,2,2)))\n",
    "\n",
    "model.add(Conv3D(64,  \n",
    "                 kernel_size=(3,3,3), \n",
    "                 padding='same'))\n",
    "model.add(BatchNormalization())\n",
    "model.add(Activation('relu'))\n",
    "\n",
    "model.add(MaxPooling3D(pool_size=(2,2,2)))\n",
    "\n",
    "model.add(Conv3D(64,  \n",
    "                 kernel_size=(3,3,3), \n",
    "                 padding='same'))\n",
    "model.add(BatchNormalization())\n",
    "model.add(Activation('relu'))\n",
    "\n",
    "model.add(MaxPooling3D(pool_size=(2,2,2)))\n",
    "\n",
    "\n",
    "#Flatten Layers\n",
    "model.add(Flatten())\n",
    "model.add(Dense(1000, activation='relu'))\n",
    "model.add(Dropout(0.5))\n",
    "model.add(Dense(500, activation='relu'))\n",
    "model.add(Dropout(0.5))\n",
    "\n",
    "#softmax layer\n",
    "model.add(Dense(5, activation='softmax'))"
   ]
  },
  {
   "cell_type": "markdown",
   "metadata": {},
   "source": [
    "Now that you have written the model, the next step is to `compile` the model. When you print the `summary` of the model, you'll see the total number of parameters you have to train."
   ]
  },
  {
   "cell_type": "code",
   "execution_count": 7,
   "metadata": {
    "scrolled": false
   },
   "outputs": [
    {
     "name": "stdout",
     "output_type": "stream",
     "text": [
      "_________________________________________________________________\n",
      "Layer (type)                 Output Shape              Param #   \n",
      "=================================================================\n",
      "conv3d_1 (Conv3D)            (None, 25, 120, 120, 16)  1312      \n",
      "_________________________________________________________________\n",
      "batch_normalization_1 (Batch (None, 25, 120, 120, 16)  64        \n",
      "_________________________________________________________________\n",
      "activation_1 (Activation)    (None, 25, 120, 120, 16)  0         \n",
      "_________________________________________________________________\n",
      "max_pooling3d_1 (MaxPooling3 (None, 12, 60, 60, 16)    0         \n",
      "_________________________________________________________________\n",
      "conv3d_2 (Conv3D)            (None, 12, 60, 60, 32)    13856     \n",
      "_________________________________________________________________\n",
      "batch_normalization_2 (Batch (None, 12, 60, 60, 32)    128       \n",
      "_________________________________________________________________\n",
      "activation_2 (Activation)    (None, 12, 60, 60, 32)    0         \n",
      "_________________________________________________________________\n",
      "max_pooling3d_2 (MaxPooling3 (None, 6, 30, 30, 32)     0         \n",
      "_________________________________________________________________\n",
      "conv3d_3 (Conv3D)            (None, 6, 30, 30, 64)     55360     \n",
      "_________________________________________________________________\n",
      "batch_normalization_3 (Batch (None, 6, 30, 30, 64)     256       \n",
      "_________________________________________________________________\n",
      "activation_3 (Activation)    (None, 6, 30, 30, 64)     0         \n",
      "_________________________________________________________________\n",
      "max_pooling3d_3 (MaxPooling3 (None, 3, 15, 15, 64)     0         \n",
      "_________________________________________________________________\n",
      "conv3d_4 (Conv3D)            (None, 3, 15, 15, 64)     110656    \n",
      "_________________________________________________________________\n",
      "batch_normalization_4 (Batch (None, 3, 15, 15, 64)     256       \n",
      "_________________________________________________________________\n",
      "activation_4 (Activation)    (None, 3, 15, 15, 64)     0         \n",
      "_________________________________________________________________\n",
      "max_pooling3d_4 (MaxPooling3 (None, 1, 7, 7, 64)       0         \n",
      "_________________________________________________________________\n",
      "flatten_1 (Flatten)          (None, 3136)              0         \n",
      "_________________________________________________________________\n",
      "dense_1 (Dense)              (None, 1000)              3137000   \n",
      "_________________________________________________________________\n",
      "dropout_1 (Dropout)          (None, 1000)              0         \n",
      "_________________________________________________________________\n",
      "dense_2 (Dense)              (None, 500)               500500    \n",
      "_________________________________________________________________\n",
      "dropout_2 (Dropout)          (None, 500)               0         \n",
      "_________________________________________________________________\n",
      "dense_3 (Dense)              (None, 5)                 2505      \n",
      "=================================================================\n",
      "Total params: 3,821,893\n",
      "Trainable params: 3,821,541\n",
      "Non-trainable params: 352\n",
      "_________________________________________________________________\n",
      "None\n"
     ]
    }
   ],
   "source": [
    "optimiser = optimizers.Adam(lr=0.001)#write your optimizer\n",
    "model.compile(optimizer=optimiser, loss='categorical_crossentropy', metrics=['categorical_accuracy'])\n",
    "print (model.summary())"
   ]
  },
  {
   "cell_type": "markdown",
   "metadata": {},
   "source": [
    "The above model was optimal in terms of results and also the parameters are very less at under 2 million parameters. The accuracy was obtained at about 85% validation accuracy and 95% training accuracy, the model is slightly overfitting. Multiple iterations of the above CNN layer was attempted with varying results. They are documented in detail in the report submission.\n",
    "\n",
    "The model can be found in the below link:\n",
    "\n",
    "** https://drive.google.com/file/d/1mxUI4IWOdGV6L5lMsuKG84akWAVrn2Ub/view?usp=sharing **"
   ]
  },
  {
   "cell_type": "markdown",
   "metadata": {},
   "source": [
    "## Approach 3: Transfer Learning\n",
    "\n",
    "There are lots of pre trained models available on Keras as well as online. We have selected Mobilenet trained on the image net dataset since it has fairly good performance and significantly smaller than it's counterparts such as RESNET 50, VGG19, Inception v3 etc. List of all available pre trained models can be found in the below link\n",
    "\n",
    "\n",
    "https://keras.io/api/applications/\n",
    "\n",
    "\n",
    "For the first iteration, Mobilenet was considered and only the layers after it were trained. It was found that the model is overfitting. Thus the following iterations were performed and the results of the same have been explained in the report in detail\n",
    "\n",
    "- Modifying the GRU and Dense NN layers\n",
    "- Replacing GRU with LSTM\n",
    "- Modifying dropout values\n",
    "\n",
    "Since none of the above iterations provided useful results, it was decided to consider weights of mobilenet layers for training. The model architecture is as follows"
   ]
  },
  {
   "cell_type": "code",
   "execution_count": 10,
   "metadata": {},
   "outputs": [],
   "source": [
    "from keras.applications import mobilenet\n",
    "\n",
    "mobilenet_transfer = mobilenet.MobileNet(weights='imagenet', include_top=False)\n",
    "\n",
    "#Model Architecture\n",
    "model = Sequential()\n",
    "\n",
    "model.add(TimeDistributed(mobilenet_transfer,input_shape=(25, 120, 120, 3)))\n",
    "\n",
    "# Code block to disable training of the mobilenet layers\n",
    "# for layer in model.layers:\n",
    "#     layer.trainable = False\n",
    "\n",
    "model.add(TimeDistributed(BatchNormalization()))\n",
    "model.add(TimeDistributed(MaxPooling2D((2, 2))))\n",
    "model.add(TimeDistributed(Flatten()))\n",
    "\n",
    "model.add(GRU(128))\n",
    "model.add(Dropout(0.25))\n",
    "\n",
    "model.add(Dense(128,activation='relu'))\n",
    "model.add(Dropout(0.25))\n",
    "\n",
    "#Final Softmax output layer\n",
    "model.add(Dense(5, activation='softmax'))"
   ]
  },
  {
   "cell_type": "code",
   "execution_count": 11,
   "metadata": {},
   "outputs": [
    {
     "name": "stdout",
     "output_type": "stream",
     "text": [
      "_________________________________________________________________\n",
      "Layer (type)                 Output Shape              Param #   \n",
      "=================================================================\n",
      "time_distributed_14 (TimeDis (None, 25, 3, 3, 1024)    3228864   \n",
      "_________________________________________________________________\n",
      "time_distributed_15 (TimeDis (None, 25, 3, 3, 1024)    4096      \n",
      "_________________________________________________________________\n",
      "time_distributed_16 (TimeDis (None, 25, 1, 1, 1024)    0         \n",
      "_________________________________________________________________\n",
      "time_distributed_17 (TimeDis (None, 25, 1024)          0         \n",
      "_________________________________________________________________\n",
      "gru_2 (GRU)                  (None, 128)               442752    \n",
      "_________________________________________________________________\n",
      "dropout_5 (Dropout)          (None, 128)               0         \n",
      "_________________________________________________________________\n",
      "dense_6 (Dense)              (None, 128)               16512     \n",
      "_________________________________________________________________\n",
      "dropout_6 (Dropout)          (None, 128)               0         \n",
      "_________________________________________________________________\n",
      "dense_7 (Dense)              (None, 5)                 645       \n",
      "=================================================================\n",
      "Total params: 3,692,869\n",
      "Trainable params: 3,668,933\n",
      "Non-trainable params: 23,936\n",
      "_________________________________________________________________\n",
      "None\n"
     ]
    }
   ],
   "source": [
    "optimiser = optimizers.Adam(lr=0.001)#write your optimizer\n",
    "model.compile(optimizer=optimiser, loss='categorical_crossentropy', metrics=['categorical_accuracy'])\n",
    "print (model.summary())"
   ]
  },
  {
   "cell_type": "markdown",
   "metadata": {},
   "source": [
    "As described in the above model summary, the number of trainable parameters is well over 3.6 Million. \n"
   ]
  },
  {
   "cell_type": "markdown",
   "metadata": {},
   "source": [
    "Let us create the `train_generator` and the `val_generator` which will be used in `.fit_generator`."
   ]
  },
  {
   "cell_type": "code",
   "execution_count": 12,
   "metadata": {},
   "outputs": [],
   "source": [
    "train_generator = generator(train_path, train_doc, batch_size)\n",
    "val_generator = generator(val_path, val_doc, batch_size)"
   ]
  },
  {
   "cell_type": "code",
   "execution_count": 13,
   "metadata": {},
   "outputs": [],
   "source": [
    "model_name = 'TL_mobileNet_GRU_Final/'\n",
    "    \n",
    "if not os.path.exists(model_name):\n",
    "    os.mkdir(model_name)\n",
    "        \n",
    "filepath = model_name + 'model-{epoch:05d}-{loss:.5f}-{categorical_accuracy:.5f}-{val_loss:.5f}-{val_categorical_accuracy:.5f}.h5'\n",
    "\n",
    "checkpoint = ModelCheckpoint(filepath, monitor='val_loss', verbose=1, save_best_only=False, save_weights_only=False, mode='auto', period=1)\n",
    "\n",
    "LR = ReduceLROnPlateau(monitor='val_loss', patience=3, cooldown=0)# write the REducelronplateau code here\n",
    "\n",
    "callback = tf.keras.callbacks.EarlyStopping(monitor='loss', patience=3)\n",
    "\n",
    "callbacks_list = [checkpoint, LR, callback]"
   ]
  },
  {
   "cell_type": "markdown",
   "metadata": {},
   "source": [
    "The `steps_per_epoch` and `validation_steps` are used by `fit_generator` to decide the number of next() calls it need to make."
   ]
  },
  {
   "cell_type": "code",
   "execution_count": 14,
   "metadata": {},
   "outputs": [],
   "source": [
    "\n",
    "if (num_train_sequences%batch_size) == 0:\n",
    "    steps_per_epoch = int(num_train_sequences/batch_size)\n",
    "else:\n",
    "    steps_per_epoch = (num_train_sequences//batch_size) + 1\n",
    "\n",
    "if (num_val_sequences%batch_size) == 0:\n",
    "    validation_steps = int(num_val_sequences/batch_size)\n",
    "else:\n",
    "    validation_steps = (num_val_sequences//batch_size) + 1"
   ]
  },
  {
   "cell_type": "markdown",
   "metadata": {},
   "source": [
    "Let us now fit the model. This will start training the model and with the help of the checkpoints, you'll be able to save the model at the end of each epoch."
   ]
  },
  {
   "cell_type": "code",
   "execution_count": 15,
   "metadata": {
    "scrolled": true
   },
   "outputs": [
    {
     "name": "stdout",
     "output_type": "stream",
     "text": [
      "Source path = Source path =  ./Project_data/train ; batch size = 15\n",
      " Epoch 1/25\n",
      "./Project_data/val ; batch size = 15\n",
      "45/45 [==============================] - 200s 4s/step - loss: 1.0298 - categorical_accuracy: 0.5793 - val_loss: 0.7359 - val_categorical_accuracy: 0.6667\n",
      "\n",
      "Epoch 00001: saving model to TL_mobileNet_GRU_Final/model-00001-1.02983-0.57926-0.73592-0.66667.h5\n",
      "Epoch 2/25\n",
      "45/45 [==============================] - 75s 2s/step - loss: 0.5042 - categorical_accuracy: 0.8059 - val_loss: 0.5351 - val_categorical_accuracy: 0.7619\n",
      "\n",
      "Epoch 00002: saving model to TL_mobileNet_GRU_Final/model-00002-0.50424-0.80593-0.53509-0.76190.h5\n",
      "Epoch 3/25\n",
      "45/45 [==============================] - 70s 2s/step - loss: 0.2803 - categorical_accuracy: 0.9067 - val_loss: 0.5052 - val_categorical_accuracy: 0.8190\n",
      "\n",
      "Epoch 00003: saving model to TL_mobileNet_GRU_Final/model-00003-0.28030-0.90667-0.50517-0.81905.h5\n",
      "Epoch 4/25\n",
      "45/45 [==============================] - 69s 2s/step - loss: 0.1791 - categorical_accuracy: 0.9289 - val_loss: 0.3735 - val_categorical_accuracy: 0.8190\n",
      "\n",
      "Epoch 00004: saving model to TL_mobileNet_GRU_Final/model-00004-0.17911-0.92889-0.37354-0.81905.h5\n",
      "Epoch 5/25\n",
      "45/45 [==============================] - 70s 2s/step - loss: 0.1527 - categorical_accuracy: 0.9407 - val_loss: 0.3942 - val_categorical_accuracy: 0.8476\n",
      "\n",
      "Epoch 00005: saving model to TL_mobileNet_GRU_Final/model-00005-0.15271-0.94074-0.39423-0.84762.h5\n",
      "Epoch 6/25\n",
      "45/45 [==============================] - 69s 2s/step - loss: 0.2118 - categorical_accuracy: 0.9289 - val_loss: 1.0564 - val_categorical_accuracy: 0.6381\n",
      "\n",
      "Epoch 00006: saving model to TL_mobileNet_GRU_Final/model-00006-0.21176-0.92889-1.05638-0.63810.h5\n",
      "Epoch 7/25\n",
      "45/45 [==============================] - 69s 2s/step - loss: 0.1322 - categorical_accuracy: 0.9556 - val_loss: 1.1417 - val_categorical_accuracy: 0.6857\n",
      "\n",
      "Epoch 00007: saving model to TL_mobileNet_GRU_Final/model-00007-0.13222-0.95556-1.14167-0.68571.h5\n",
      "Epoch 8/25\n",
      "45/45 [==============================] - 69s 2s/step - loss: 0.0809 - categorical_accuracy: 0.9748 - val_loss: 0.5010 - val_categorical_accuracy: 0.8476\n",
      "\n",
      "Epoch 00008: saving model to TL_mobileNet_GRU_Final/model-00008-0.08085-0.97481-0.50096-0.84762.h5\n",
      "Epoch 9/25\n",
      "45/45 [==============================] - 70s 2s/step - loss: 0.0409 - categorical_accuracy: 0.9852 - val_loss: 0.3593 - val_categorical_accuracy: 0.8667\n",
      "\n",
      "Epoch 00009: saving model to TL_mobileNet_GRU_Final/model-00009-0.04089-0.98519-0.35931-0.86667.h5\n",
      "Epoch 10/25\n",
      "45/45 [==============================] - 71s 2s/step - loss: 0.0223 - categorical_accuracy: 0.9926 - val_loss: 0.2169 - val_categorical_accuracy: 0.9333\n",
      "\n",
      "Epoch 00010: saving model to TL_mobileNet_GRU_Final/model-00010-0.02235-0.99259-0.21686-0.93333.h5\n",
      "Epoch 11/25\n",
      "45/45 [==============================] - 70s 2s/step - loss: 0.0315 - categorical_accuracy: 0.9911 - val_loss: 0.2364 - val_categorical_accuracy: 0.9048\n",
      "\n",
      "Epoch 00011: saving model to TL_mobileNet_GRU_Final/model-00011-0.03146-0.99111-0.23644-0.90476.h5\n",
      "Epoch 12/25\n",
      "45/45 [==============================] - 70s 2s/step - loss: 0.0188 - categorical_accuracy: 0.9956 - val_loss: 0.2176 - val_categorical_accuracy: 0.9524\n",
      "\n",
      "Epoch 00012: saving model to TL_mobileNet_GRU_Final/model-00012-0.01884-0.99556-0.21758-0.95238.h5\n",
      "Epoch 13/25\n",
      "45/45 [==============================] - 70s 2s/step - loss: 0.0159 - categorical_accuracy: 0.9985 - val_loss: 0.1811 - val_categorical_accuracy: 0.9429\n",
      "\n",
      "Epoch 00013: saving model to TL_mobileNet_GRU_Final/model-00013-0.01586-0.99852-0.18113-0.94286.h5\n",
      "Epoch 14/25\n",
      "45/45 [==============================] - 69s 2s/step - loss: 0.0177 - categorical_accuracy: 0.9941 - val_loss: 0.3396 - val_categorical_accuracy: 0.9048\n",
      "\n",
      "Epoch 00014: saving model to TL_mobileNet_GRU_Final/model-00014-0.01772-0.99407-0.33955-0.90476.h5\n",
      "Epoch 15/25\n",
      "45/45 [==============================] - 70s 2s/step - loss: 0.0071 - categorical_accuracy: 1.0000 - val_loss: 0.3834 - val_categorical_accuracy: 0.9048\n",
      "\n",
      "Epoch 00015: saving model to TL_mobileNet_GRU_Final/model-00015-0.00714-1.00000-0.38337-0.90476.h5\n",
      "Epoch 16/25\n",
      "45/45 [==============================] - 69s 2s/step - loss: 0.0175 - categorical_accuracy: 0.9926 - val_loss: 0.3235 - val_categorical_accuracy: 0.8952\n",
      "\n",
      "Epoch 00016: saving model to TL_mobileNet_GRU_Final/model-00016-0.01747-0.99259-0.32349-0.89524.h5\n",
      "Epoch 17/25\n",
      "45/45 [==============================] - 70s 2s/step - loss: 0.0148 - categorical_accuracy: 0.9970 - val_loss: 0.1793 - val_categorical_accuracy: 0.9429\n",
      "\n",
      "Epoch 00017: saving model to TL_mobileNet_GRU_Final/model-00017-0.01482-0.99704-0.17935-0.94286.h5\n",
      "Epoch 18/25\n",
      "45/45 [==============================] - 70s 2s/step - loss: 0.0059 - categorical_accuracy: 1.0000 - val_loss: 0.2466 - val_categorical_accuracy: 0.9143\n",
      "\n",
      "Epoch 00018: saving model to TL_mobileNet_GRU_Final/model-00018-0.00592-1.00000-0.24665-0.91429.h5\n",
      "Epoch 19/25\n",
      "45/45 [==============================] - 69s 2s/step - loss: 0.0123 - categorical_accuracy: 0.9970 - val_loss: 0.2830 - val_categorical_accuracy: 0.9143\n",
      "\n",
      "Epoch 00019: saving model to TL_mobileNet_GRU_Final/model-00019-0.01232-0.99704-0.28302-0.91429.h5\n",
      "Epoch 20/25\n",
      "45/45 [==============================] - 70s 2s/step - loss: 0.0122 - categorical_accuracy: 0.9985 - val_loss: 0.3040 - val_categorical_accuracy: 0.9143\n",
      "\n",
      "Epoch 00020: saving model to TL_mobileNet_GRU_Final/model-00020-0.01217-0.99852-0.30404-0.91429.h5\n",
      "Epoch 21/25\n",
      "45/45 [==============================] - 70s 2s/step - loss: 0.0083 - categorical_accuracy: 0.9985 - val_loss: 0.3622 - val_categorical_accuracy: 0.9048\n",
      "\n",
      "Epoch 00021: saving model to TL_mobileNet_GRU_Final/model-00021-0.00825-0.99852-0.36225-0.90476.h5\n"
     ]
    }
   ],
   "source": [
    "history_CNN = model.fit_generator(train_generator, steps_per_epoch=steps_per_epoch, epochs = 25, verbose=1, \n",
    "                    callbacks=callbacks_list, validation_data=val_generator, \n",
    "                    validation_steps=validation_steps, class_weight=None, workers=1, initial_epoch=0)"
   ]
  },
  {
   "cell_type": "code",
   "execution_count": 16,
   "metadata": {},
   "outputs": [],
   "source": [
    "import matplotlib.pyplot as plt\n",
    "def plot(history):\n",
    "    fig, axes = plt.subplots(nrows=1, ncols=2, figsize=(15,4))\n",
    "    axes[0].plot(history.history['loss'])   \n",
    "    axes[0].plot(history.history['val_loss'])\n",
    "    axes[0].legend(['loss','val_loss'])\n",
    "\n",
    "    axes[1].plot(history.history['categorical_accuracy'])   \n",
    "    axes[1].plot(history.history['val_categorical_accuracy'])\n",
    "    axes[1].legend(['categorical_accuracy','val_categorical_accuracy'])"
   ]
  },
  {
   "cell_type": "code",
   "execution_count": 17,
   "metadata": {},
   "outputs": [
    {
     "data": {
      "image/png": "[encoded data removed]",
      "text/plain": [
       "<Figure size 1080x288 with 2 Axes>"
      ]
     },
     "metadata": {},
     "output_type": "display_data"
    }
   ],
   "source": [
    "plot(history_CNN)"
   ]
  },
  {
   "cell_type": "markdown",
   "metadata": {},
   "source": [
    "As it is evident by the above results, after certain epochs, the model slightly begins to over fit and thus early stop option stopped the training mid way. The optimal point as per the graphs is found at about 12 epoch. i.e. model checkpoint with 99% training accuracy and 95% approximately. The above model was arrived after performing multiple iterations by adjusting the number of GRU and Dense NN layers.\n",
    "\n",
    "Another iteration of the above model was tried by replacing mobilenet with mobilenet V2 but probably due the type of feature maps that it created was very different when compared to the other version. i.e. output was of shape (30, 5060) against the current one which is (30, 1024), the results were very sub par i.e. accuracy were barely about 40-50% even over multiple epochs. Thus the preferred Transfer learning method was finalized as mobile net due to the excellent reuslts it generated for our particular use case\n",
    "\n",
    "## Conclusion\n",
    "\n",
    "The above model was found to be the best among all the attempted iterations and approaches. It has exceptionally well accuracy results and also the model fit is appropriate. Details of the iterations and their results is mentioned in the report"
   ]
  }
 ],
 "metadata": {
  "kernelspec": {
   "display_name": "Python 3",
   "language": "python",
   "name": "python3"
  },
  "language_info": {
   "codemirror_mode": {
    "name": "ipython",
    "version": 3
   },
   "file_extension": ".py",
   "mimetype": "text/x-python",
   "name": "python",
   "nbconvert_exporter": "python",
   "pygments_lexer": "ipython3",
   "version": "3.6.8"
  }
 },
 "nbformat": 4,
 "nbformat_minor": 2
}
